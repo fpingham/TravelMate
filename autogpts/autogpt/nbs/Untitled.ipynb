{
 "cells": [
  {
   "cell_type": "code",
   "execution_count": 1,
   "id": "a8c26ebe-a5c6-41a6-90db-0001a7dd8432",
   "metadata": {},
   "outputs": [],
   "source": [
    "from langchain.chat_models import ChatOpenAI\n",
    "from langchain.document_loaders import WebBaseLoader\n",
    "from langchain.chains.summarize import load_summarize_chain\n",
    "from langchain.text_splitter import CharacterTextSplitter"
   ]
  },
  {
   "cell_type": "code",
   "execution_count": 10,
   "id": "e16d42d7-7d52-441e-95e2-fdc725581973",
   "metadata": {},
   "outputs": [],
   "source": [
    "from langchain import OpenAI"
   ]
  },
  {
   "cell_type": "code",
   "execution_count": 2,
   "id": "909df090-c765-4154-bbf4-2cb01f49c193",
   "metadata": {},
   "outputs": [],
   "source": [
    "loader = WebBaseLoader(\"https://en.wikipedia.org/wiki/Apple_Inc.\")\n",
    "wiki = loader.load()"
   ]
  },
  {
   "cell_type": "code",
   "execution_count": 16,
   "id": "c0247f89-24f9-4119-b2a9-1f2917390aae",
   "metadata": {},
   "outputs": [],
   "source": [
    "# llm = OpenAI(temperature=0)"
   ]
  },
  {
   "cell_type": "code",
   "execution_count": 17,
   "id": "692d9854-d236-4ddb-8223-5b07aad33f51",
   "metadata": {},
   "outputs": [],
   "source": [
    "text_splitter = CharacterTextSplitter.from_tiktoken_encoder(\n",
    "    chunk_size=3000, chunk_overlap=0\n",
    ")\n",
    "split_docs = text_splitter.split_documents(wiki)"
   ]
  },
  {
   "cell_type": "code",
   "execution_count": null,
   "id": "9021084c-96d4-42b9-80f9-3c4436da10b5",
   "metadata": {},
   "outputs": [],
   "source": [
    "llm = ChatOpenAI(temperature=0)\n",
    "chain = load_summarize_chain(llm, chain_type=\"refine\")"
   ]
  },
  {
   "cell_type": "code",
   "execution_count": 19,
   "id": "db2fa0e1-5d57-4381-8e37-9262828939c1",
   "metadata": {},
   "outputs": [
    {
     "data": {
      "text/plain": [
       "\"Apple Inc. is an American multinational technology company known for its consumer electronics and software services. It was founded in 1976 and is headquartered in Cupertino, California. Apple is the world's largest technology company by revenue and market capitalization. It is one of the Big Five American information technology companies. Apple has had significant success with products such as the iPhone, iPad, and Mac. The company has faced challenges in the past but has been guided to profitability by its former CEO, Steve Jobs, and its current CEO, Tim Cook. Apple has achieved several milestones, including being the first publicly traded U.S. company to reach a market value of $1 trillion. However, it has also faced criticism for its labor practices, environmental impact, and business ethics. Despite this, Apple has a strong following and is considered one of the world's most valuable brands.\""
      ]
     },
     "execution_count": 19,
     "metadata": {},
     "output_type": "execute_result"
    }
   ],
   "source": [
    "chain.run(split_docs[:4])"
   ]
  },
  {
   "cell_type": "code",
   "execution_count": null,
   "id": "9da56829-08e7-47a9-8d3a-3e8cfd330bd6",
   "metadata": {},
   "outputs": [],
   "source": []
  },
  {
   "cell_type": "code",
   "execution_count": null,
   "id": "dbbb5ed6-5914-4acc-812f-fe5260f618eb",
   "metadata": {},
   "outputs": [],
   "source": []
  },
  {
   "cell_type": "code",
   "execution_count": 20,
   "id": "7dc66441-4d77-40eb-b0c3-a52244c8b564",
   "metadata": {},
   "outputs": [],
   "source": [
    "llm = OpenAI(temperature=0)\n",
    "chain = load_summarize_chain(llm, chain_type=\"refine\")"
   ]
  },
  {
   "cell_type": "code",
   "execution_count": 29,
   "id": "bb8cecba-ec6c-4d17-b2d0-e6b7cc72d326",
   "metadata": {},
   "outputs": [],
   "source": [
    "chain.initial_llm_chain.prompt.template = 'Write a summary of the following, metioning ONLY on the most relevant/pressing aspects for someone looking to visit the country:\\n\\n\\n\"{text}\"\\n\\n\\nCONCISE SUMMARY:'"
   ]
  },
  {
   "cell_type": "code",
   "execution_count": 31,
   "id": "28bead5f-473c-4b39-b322-968c20b9790f",
   "metadata": {},
   "outputs": [
    {
     "data": {
      "text/plain": [
       "'Write a summary of the following, metioning ONLY on the most relevant/pressing aspects for someone looking to visit the country:\\n\\n\\n\"{text}\"\\n\\n\\nCONCISE SUMMARY:'"
      ]
     },
     "execution_count": 31,
     "metadata": {},
     "output_type": "execute_result"
    }
   ],
   "source": [
    "chain.initial_llm_chain.prompt.template"
   ]
  },
  {
   "cell_type": "code",
   "execution_count": 30,
   "id": "2de83846-3732-49c2-9743-02f93b81991c",
   "metadata": {},
   "outputs": [],
   "source": [
    "chain.refine_llm_chain.prompt.template = \"Your job is to produce a final summary.\\nWe have provided an existing summary up to a certain point: {existing_answer}\\nWe have the opportunity to refine the existing summary (only if needed) with some more context below.\\n------------\\n{text}\\n------------\\nGiven the new context, refine the original summary, metioning ONLY on the most relevant/pressing aspects for someone looking to visit the country\\nIf the context isn't useful, return the original summary.\""
   ]
  },
  {
   "cell_type": "code",
   "execution_count": 32,
   "id": "bebaac16-5b6f-4f11-9cc8-f51d771c5e46",
   "metadata": {},
   "outputs": [
    {
     "data": {
      "text/plain": [
       "\"Your job is to produce a final summary.\\nWe have provided an existing summary up to a certain point: {existing_answer}\\nWe have the opportunity to refine the existing summary (only if needed) with some more context below.\\n------------\\n{text}\\n------------\\nGiven the new context, refine the original summary, metioning ONLY on the most relevant/pressing aspects for someone looking to visit the country\\nIf the context isn't useful, return the original summary.\""
      ]
     },
     "execution_count": 32,
     "metadata": {},
     "output_type": "execute_result"
    }
   ],
   "source": [
    "chain.refine_llm_chain.prompt.template "
   ]
  }
 ],
 "metadata": {
  "kernelspec": {
   "display_name": "pampa-labs",
   "language": "python",
   "name": "pampa-labs"
  },
  "language_info": {
   "codemirror_mode": {
    "name": "ipython",
    "version": 3
   },
   "file_extension": ".py",
   "mimetype": "text/x-python",
   "name": "python",
   "nbconvert_exporter": "python",
   "pygments_lexer": "ipython3",
   "version": "3.10.12"
  }
 },
 "nbformat": 4,
 "nbformat_minor": 5
}
